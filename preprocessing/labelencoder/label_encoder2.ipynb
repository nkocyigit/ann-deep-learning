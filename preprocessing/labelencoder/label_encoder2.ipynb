{
 "cells": [
  {
   "cell_type": "code",
   "execution_count": null,
   "metadata": {
    "collapsed": true
   },
   "outputs": [],
   "source": [
    "#==============================================================================\n",
    "# english\n",
    "# encoding categorical data in dataset\n",
    "# this code piece demonstrates the label encoding on a real world dataset\n",
    "# the basic idea of label encoding is given in \"label_encoder.py\"\n",
    "#==============================================================================\n",
    "\n",
    "#==============================================================================\n",
    "# turkish\n",
    "# veri setindeki kategorik verinin numerik olarak gosterimi\n",
    "# bu kod parcasi kategorik verilerin veri isleme surecine girmeden once\n",
    "# etiketlenmesini gercek dunyadan alinmis bir veri seti uzerinde gostermekte\n",
    "# label encoding in temel calisma sekli ve fikri \"label_encoder.py\" dosyasinda\n",
    "# anlatilmistir\n",
    "#=============================================================================="
   ]
  },
  {
   "cell_type": "code",
   "execution_count": null,
   "metadata": {
    "collapsed": true
   },
   "outputs": [],
   "source": [
    "# importing the libraries\n",
    "import pandas as pd\n",
    "import os\n",
    "from sklearn import preprocessing"
   ]
  },
  {
   "cell_type": "code",
   "execution_count": null,
   "metadata": {
    "collapsed": true
   },
   "outputs": [],
   "source": [
    "# find the path to the dataset\n",
    "looking_for = 'ann-deep-learning'\n",
    "current_path = os.path.dirname(os.path.realpath('__file__'))\n",
    "index = current_path.find(looking_for)\n",
    "root_path = current_path[:index + len(looking_for)]"
   ]
  },
  {
   "cell_type": "code",
   "execution_count": null,
   "metadata": {},
   "outputs": [],
   "source": [
    "# importing the dataset, specifying the seperator as \";\"\n",
    "dataset = pd.read_csv(root_path+'/datasets/cars.csv', sep=';')\n",
    "print(dataset.shape)"
   ]
  },
  {
   "cell_type": "code",
   "execution_count": null,
   "metadata": {
    "collapsed": true
   },
   "outputs": [],
   "source": [
    "# get rows start from row 1 (inclusive) and columns start from 1 inclusive\n",
    "X = dataset.iloc[1:, 1:].values"
   ]
  },
  {
   "cell_type": "code",
   "execution_count": null,
   "metadata": {},
   "outputs": [],
   "source": [
    "# we can see that our dataset include some categorical data like\n",
    "# country names or gender, so we will convert this categorical data\n",
    "# to encoded or numerical data\n",
    "# let's transform the origin field, its column index is 7\n",
    "label_encoder_X7 = preprocessing.LabelEncoder()\n",
    "label_encoder_X7.fit(X[:, 7])\n",
    "X[:, 7] = label_encoder_X7.transform(X[:, 7])\n",
    "print(X)"
   ]
  },
  {
   "cell_type": "code",
   "execution_count": null,
   "metadata": {
    "collapsed": true
   },
   "outputs": [],
   "source": [
    "# also we can do fit and transform in one line of code\n",
    "# reset the X\n",
    "X = dataset.iloc[1:, 1:9].values"
   ]
  },
  {
   "cell_type": "code",
   "execution_count": null,
   "metadata": {},
   "outputs": [],
   "source": [
    "# fit and transform for country field\n",
    "label_encoder_X7 = preprocessing.LabelEncoder()\n",
    "X[:, 7] = label_encoder_X7.fit_transform(X[:, 7])\n",
    "print(X)"
   ]
  }
 ],
 "metadata": {
  "kernelspec": {
   "display_name": "Python 3",
   "language": "python",
   "name": "python3"
  },
  "language_info": {
   "codemirror_mode": {
    "name": "ipython",
    "version": 3
   },
   "file_extension": ".py",
   "mimetype": "text/x-python",
   "name": "python",
   "nbconvert_exporter": "python",
   "pygments_lexer": "ipython3",
   "version": "3.6.1"
  }
 },
 "nbformat": 4,
 "nbformat_minor": 2
}
