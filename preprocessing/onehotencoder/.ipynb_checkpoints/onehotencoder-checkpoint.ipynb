{
 "cells": [
  {
   "cell_type": "code",
   "execution_count": null,
   "metadata": {
    "collapsed": true
   },
   "outputs": [],
   "source": [
    "#==============================================================================\n",
    "# english\n",
    "# In many practical Data Science activities, the data set will contain \n",
    "# categorical variables. These variables are typically stored as text values \n",
    "# which represent various traits. Some examples include color \n",
    "# (“Red”, “Yellow”, “Blue”), size (“Small”, “Medium”, “Large”) or \n",
    "# geographic designations (State or Country). Regardless of what the value \n",
    "# is used for, the challenge is determining how to use this data in the \n",
    "# analysis. Many machine learning algorithms can support categorical values \n",
    "# without further manipulation but there are many more algorithms that do not. \n",
    "# Therefore, the analyst is faced with the challenge of figuring out how to \n",
    "# turn these text attributes into numerical values for further processing.\n",
    "\n",
    "# Label encoding has the advantage that it is straightforward but it has the \n",
    "# disadvantage that the numeric values can be “misinterpreted” by the \n",
    "# algorithms. For example, the value of 0 is obviously less than the value \n",
    "# of 4 but does that really correspond to the data set in real life?\n",
    "\n",
    "# A common alternative approach is called one hot encoding. \n",
    "# Despite the different names, the basic \n",
    "# strategy is to convert each category value into a new column and assigns \n",
    "# a 1 or 0 (True/False) value to the column. This has the benefit of not \n",
    "# weighting a value improperly but does have the downside of adding more \n",
    "# columns to the data set.\n",
    "\n",
    "# code uses the function from sklearn\n",
    "#==============================================================================\n",
    "\n",
    "#==============================================================================\n",
    "# turkish\n",
    "\n",
    "# Bircok pratik Data Science aktivitesinde, veri setinde kategorik degiskenler \n",
    "# yer alacaktir. Bu degişkenler genellikle cesitli ozellikleri temsil eden \n",
    "# metin degerleri olarak saklanir. Bazı ornekler arasinda renk \n",
    "# (\"Kirmizi\", \"Sari\", \"Mavi\"), boyut (\"Kucuk\", \"Orta\", \"Buyuk\") veya cografi \n",
    "# belirtimler (Eyalet veya Ulke) bulunur. Degerin ne icin kullanildigina \n",
    "# bakilmaksizin, analizde bu verilerin nasil kullanilacagini belirlemek \n",
    "# zordur. Pek cok makine ögrenme algoritmasi, kategorik degerleri baska \n",
    "# manipulasyon olmadan destekleyebilir, ancak bunu yapmayan daha bircok \n",
    "# algoritma vardir. Bu nedenle, analist, bu metin niteliklerini sonraki \n",
    "# isleme icin sayisal degerlere donusturme problemi ile karsi karsiya kalir.\n",
    "\n",
    "# Label encoding basit olmasi avantajlidir, ancak sayisal degerlerin \n",
    "# algoritmalar tarafindan \"yanlis yorumlanmasi\" gibi dezavantaja sahiptir. \n",
    "# Ornegin, 0 degeri aciktir ki 4 degerinden kucuktur, ancak bu gercek \n",
    "# yasamdaki veri kumesine karsilik gelmekte midir?\n",
    "\n",
    "# Ortak bir alternatif yaklasim, OneHotEncoding olarak adlandirilir \n",
    "# Farkli adlara ragmen, temel strateji her kategori degerini yeni bir sutuna \n",
    "# donusturmek ve sutuna 1 veya 0 (Dogru / Yanlis) degeri atamaktir. Bu, bir \n",
    "# degerin yanlis bir sekilde agirliklandirilmama avantajina sahiptir; ancak, \n",
    "# veri kumesine daha fazla sutun ekleme dezavantajina sahiptir.\n",
    "\n",
    "# sklearn kutuphanesinden ilgili fonksiyon kullanilmaktadir\n",
    "#=============================================================================="
   ]
  },
  {
   "cell_type": "code",
   "execution_count": 1,
   "metadata": {
    "collapsed": true
   },
   "outputs": [],
   "source": [
    "# importing the libraries\n",
    "import pandas as pd\n",
    "import os\n",
    "from sklearn import preprocessing"
   ]
  },
  {
   "cell_type": "code",
   "execution_count": 2,
   "metadata": {
    "collapsed": true
   },
   "outputs": [],
   "source": [
    "# find the path to the dataset\n",
    "looking_for = 'ann-deep-learning'\n",
    "current_path = os.path.dirname(os.path.realpath('__file__'))\n",
    "index = current_path.find(looking_for)\n",
    "root_path = current_path[:index + len(looking_for)]"
   ]
  },
  {
   "cell_type": "code",
   "execution_count": 3,
   "metadata": {},
   "outputs": [
    {
     "name": "stdout",
     "output_type": "stream",
     "text": [
      "(407, 9)\n"
     ]
    }
   ],
   "source": [
    "# importing the dataset, specifying the seperator as \";\"\n",
    "dataset = pd.read_csv(root_path+'/datasets/cars.csv', sep=';')\n",
    "print(dataset.shape)"
   ]
  },
  {
   "cell_type": "code",
   "execution_count": 4,
   "metadata": {
    "collapsed": true
   },
   "outputs": [],
   "source": [
    "# get rows start from row 1 (inclusive) and columns start from 1 inclusive\n",
    "X = dataset.iloc[1:, 1:].values"
   ]
  },
  {
   "cell_type": "code",
   "execution_count": 5,
   "metadata": {},
   "outputs": [
    {
     "name": "stdout",
     "output_type": "stream",
     "text": [
      "[['18.0' '8' '307.0' ..., '12.0' '70' 2]\n",
      " ['15.0' '8' '350.0' ..., '11.5' '70' 2]\n",
      " ['18.0' '8' '318.0' ..., '11.0' '70' 2]\n",
      " ..., \n",
      " ['32.0' '4' '135.0' ..., '11.6' '82' 2]\n",
      " ['28.0' '4' '120.0' ..., '18.6' '82' 2]\n",
      " ['31.0' '4' '119.0' ..., '19.4' '82' 2]]\n"
     ]
    }
   ],
   "source": [
    "# we can see that our dataset include some categorical data like\n",
    "# country names or gender, so we will convert this categorical data\n",
    "# to encoded or numerical data\n",
    "# let's transform the origin field, its column index is 7\n",
    "label_encoder_X7 = preprocessing.LabelEncoder()\n",
    "label_encoder_X7.fit(X[:, 7])\n",
    "X[:, 7] = label_encoder_X7.transform(X[:, 7])\n",
    "print(X)"
   ]
  },
  {
   "cell_type": "code",
   "execution_count": null,
   "metadata": {},
   "outputs": [],
   "source": [
    "# d categorical value type needs d extra column\n",
    "# for gender feature we have 2 categories male/female so we need d = 2 field,\n",
    "# he country type has 3 types Spain/France/Germany, for the country\n",
    "# feature we need d = 3 extra fields, so we need to use onehotencoder\n",
    "one_hot_encoder = preprocessing.OneHotEncoder(categorical_features = [7] ,sparse=True)\n",
    "X = one_hot_encoder.fit_transform(X).toarray()\n",
    "X = X[:, :]\n",
    "X.tolist()"
   ]
  }
 ],
 "metadata": {
  "kernelspec": {
   "display_name": "Python 3",
   "language": "python",
   "name": "python3"
  },
  "language_info": {
   "codemirror_mode": {
    "name": "ipython",
    "version": 3
   },
   "file_extension": ".py",
   "mimetype": "text/x-python",
   "name": "python",
   "nbconvert_exporter": "python",
   "pygments_lexer": "ipython3",
   "version": "3.6.1"
  }
 },
 "nbformat": 4,
 "nbformat_minor": 2
}
