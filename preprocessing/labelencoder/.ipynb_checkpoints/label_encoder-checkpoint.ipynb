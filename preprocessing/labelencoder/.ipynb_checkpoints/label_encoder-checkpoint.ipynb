{
 "cells": [
  {
   "cell_type": "code",
   "execution_count": null,
   "metadata": {
    "collapsed": true
   },
   "outputs": [],
   "source": [
    "#==============================================================================\n",
    "# english\n",
    "# encoding categorical data in dataset\n",
    "# this code piece demonstrates the data preprocessing\n",
    "# for the labeled data, eg. gender \"male\",\"female\"\n",
    "# can be encoded into 0 and 1. That is necessary because\n",
    "# you can not feed that kinf of data into processing phase.\n",
    "# Mostly that kind of features are categorical data.\n",
    "# Another example is for countries, \"Turkey\",\"USA\",\n",
    "# \"Germany\",\"France\" can be encoded as 0,1,2 and 3.\n",
    "# code uses the function from sklearn\n",
    "#==============================================================================\n",
    "\n",
    "#==============================================================================\n",
    "# turkish\n",
    "# veri setindeki kategorik verinin numerik olarak gosterimi\n",
    "# bu kod parcasi kategorik verilerin veri isleme surecine girmeden once\n",
    "# etiketlenmis bir veri ile degistirilmesini gosteren bir ornektir, ornegin\n",
    "# cinsiyet \"kadin\",\"erkek\" degerlerinden birisini alabilir bu yontem ile bu\n",
    "# kategorik veriyi 0,1 seklinde bir veriye donusturebiliriz ya da ulkelerden\n",
    "# olusan bir veri alanini Turkiye,USA,Almanya,Fransa 0,1,2,3 seklinde \n",
    "# degistirebiliriz, kategorik verinin bu sekilde degistirilmesi sonraki veri\n",
    "# isleme adimlarina verinin problemsiz olarak verilebilmesi icin gereklidir\n",
    "# sklearn kutuphanesinden ilgili fonksiyon kullanilmaktadir\n",
    "#=============================================================================="
   ]
  },
  {
   "cell_type": "code",
   "execution_count": null,
   "metadata": {
    "collapsed": true
   },
   "outputs": [],
   "source": [
    "from sklearn import preprocessing"
   ]
  },
  {
   "cell_type": "code",
   "execution_count": null,
   "metadata": {},
   "outputs": [],
   "source": [
    "label_encoder = preprocessing.LabelEncoder()\n",
    "\n",
    "countries = [\"Turkey\",\"Germany\",\"France\",\"Italy\"]\n",
    "\n",
    "label_encoder.fit(countries)\n",
    "\n",
    "label_encoder.classes_\n",
    "\n",
    "test_data = [\"Turkey\", \"Turkey\",\"Italy\",\"France\",\"Germany\",\"Turkey\"]\n",
    "\n",
    "label_encoder.transform(test_data)"
   ]
  }
 ],
 "metadata": {
  "kernelspec": {
   "display_name": "Python 3",
   "language": "python",
   "name": "python3"
  },
  "language_info": {
   "codemirror_mode": {
    "name": "ipython",
    "version": 3
   },
   "file_extension": ".py",
   "mimetype": "text/x-python",
   "name": "python",
   "nbconvert_exporter": "python",
   "pygments_lexer": "ipython3",
   "version": "3.6.1"
  }
 },
 "nbformat": 4,
 "nbformat_minor": 2
}
